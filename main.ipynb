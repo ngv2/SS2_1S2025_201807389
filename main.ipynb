{
 "cells": [
  {
   "cell_type": "markdown",
   "metadata": {},
   "source": [
    "## Practica 2\n",
    "\n"
   ]
  },
  {
   "cell_type": "code",
   "execution_count": 1,
   "metadata": {},
   "outputs": [
    {
     "name": "stderr",
     "output_type": "stream",
     "text": [
      "[nltk_data] Downloading package punkt to /home/lets/nltk_data...\n",
      "[nltk_data]   Package punkt is already up-to-date!\n"
     ]
    },
    {
     "data": {
      "application/vnd.microsoft.datawrangler.viewer.v0+json": {
       "columns": [
        {
         "name": "index",
         "rawType": "int64",
         "type": "integer"
        },
        {
         "name": "Course Title",
         "rawType": "object",
         "type": "string"
        },
        {
         "name": "Rating",
         "rawType": "float64",
         "type": "float"
        },
        {
         "name": "Level",
         "rawType": "object",
         "type": "string"
        },
        {
         "name": "Duration",
         "rawType": "object",
         "type": "string"
        },
        {
         "name": "Schedule",
         "rawType": "object",
         "type": "string"
        },
        {
         "name": "Review",
         "rawType": "object",
         "type": "unknown"
        },
        {
         "name": "What you will learn",
         "rawType": "object",
         "type": "unknown"
        },
        {
         "name": "Skill gain",
         "rawType": "object",
         "type": "string"
        },
        {
         "name": "Modules",
         "rawType": "object",
         "type": "string"
        },
        {
         "name": "Instructor",
         "rawType": "object",
         "type": "string"
        },
        {
         "name": "Offered By",
         "rawType": "object",
         "type": "string"
        },
        {
         "name": "Keyword",
         "rawType": "object",
         "type": "string"
        },
        {
         "name": "Course Url",
         "rawType": "object",
         "type": "string"
        }
       ],
       "conversionMethod": "pd.DataFrame",
       "ref": "02e671c0-26c7-4d16-8182-52041e67f709",
       "rows": [
        [
         "0",
         "Fashion as Design",
         "4.8",
         "Beginner level",
         "20 hours (approximately)",
         "Flexible schedule",
         "2,813 reviews",
         null,
         "['Art History', 'Art', 'History', 'Creativity']",
         "['Introduction', 'Heroes', 'Silhouettes', 'Coutures', 'Lifecycle', 'Modesty', 'Expression']",
         "['Anna Burckhardt', 'Paola Antonelli', 'Michelle Millar Fisher', 'Stephanie Kramer']",
         "['The Museum of Modern Art']",
         "Arts and Humanities",
         "https://www.coursera.org/learn/fashion-design"
        ],
        [
         "1",
         "Modern American Poetry",
         "4.4",
         "Beginner level",
         "Approx. 34 hours to complete",
         "Flexible schedule",
         "100 reviews",
         null,
         "[]",
         "['Orientation', 'Module 1', 'Module 2', 'Module 3', 'Module 4']",
         "['Cary Nelson']",
         "['University of Illinois at Urbana-Champaign']",
         "Arts and Humanities",
         "https://www.coursera.org/learn/modern-american-poetry"
        ],
        [
         "2",
         "Pixel Art for Video Games",
         "4.5",
         "Beginner level",
         "9 hours (approximately)",
         "Flexible schedule",
         "227 reviews",
         null,
         "[]",
         "['Week 1: Introduction to Pixel Art', 'Week 2: Pixel Art Environments', 'Week 3: Pixel Art Characters', 'Week 4: Pixel Art Animation', 'Week 5: Pixel Art Project']",
         "['Andrew Dennis', 'Ricardo Guimaraes']",
         "['Michigan State University']",
         "Arts and Humanities",
         "https://www.coursera.org/learn/pixel-art-video-games"
        ],
        [
         "3",
         "Distribución digital de la música independiente",
         null,
         "Beginner level",
         "Approx. 8 hours to complete",
         "Flexible schedule",
         null,
         null,
         "[]",
         "['Semana 1', 'Semana 2', 'Semana 3', 'Semana 4']",
         "['Eduardo de la Vara Brown.']",
         "['SAE Institute México']",
         "Arts and Humanities",
         "https://www.coursera.org/learn/distribucion-digital-de-la-musica-independiente"
        ],
        [
         "4",
         "The Blues: Understanding and Performing an American Art Form",
         "4.8",
         "Beginner level",
         "Approx. 11 hours to complete",
         "Flexible schedule",
         "582 reviews",
         "Students will be able to describe the blues as an important musical form. Students will be able to explain differences in jazz and other variations of the blues. ",
         "['Music', 'Chord', 'Jazz', 'Jazz Improvisation']",
         "['Blues Progressions – Theory and Practice ', 'Blues Scales ', 'Keyboard Realization ', '“Bird” Blues and Other Blues Progressions', 'Improvisational Tools ', 'Improvising the Blues – Part 1 ', 'Improvising the Blues – Part 2']",
         "['Dariusz Terefenko']",
         "['University of Rochester']",
         "Arts and Humanities",
         "https://www.coursera.org/learn/the-blues"
        ]
       ],
       "shape": {
        "columns": 13,
        "rows": 5
       }
      },
      "text/html": [
       "<div>\n",
       "<style scoped>\n",
       "    .dataframe tbody tr th:only-of-type {\n",
       "        vertical-align: middle;\n",
       "    }\n",
       "\n",
       "    .dataframe tbody tr th {\n",
       "        vertical-align: top;\n",
       "    }\n",
       "\n",
       "    .dataframe thead th {\n",
       "        text-align: right;\n",
       "    }\n",
       "</style>\n",
       "<table border=\"1\" class=\"dataframe\">\n",
       "  <thead>\n",
       "    <tr style=\"text-align: right;\">\n",
       "      <th></th>\n",
       "      <th>Course Title</th>\n",
       "      <th>Rating</th>\n",
       "      <th>Level</th>\n",
       "      <th>Duration</th>\n",
       "      <th>Schedule</th>\n",
       "      <th>Review</th>\n",
       "      <th>What you will learn</th>\n",
       "      <th>Skill gain</th>\n",
       "      <th>Modules</th>\n",
       "      <th>Instructor</th>\n",
       "      <th>Offered By</th>\n",
       "      <th>Keyword</th>\n",
       "      <th>Course Url</th>\n",
       "    </tr>\n",
       "  </thead>\n",
       "  <tbody>\n",
       "    <tr>\n",
       "      <th>0</th>\n",
       "      <td>Fashion as Design</td>\n",
       "      <td>4.8</td>\n",
       "      <td>Beginner level</td>\n",
       "      <td>20 hours (approximately)</td>\n",
       "      <td>Flexible schedule</td>\n",
       "      <td>2,813 reviews</td>\n",
       "      <td>NaN</td>\n",
       "      <td>['Art History', 'Art', 'History', 'Creativity']</td>\n",
       "      <td>['Introduction', 'Heroes', 'Silhouettes', 'Cou...</td>\n",
       "      <td>['Anna Burckhardt', 'Paola Antonelli', 'Michel...</td>\n",
       "      <td>['The Museum of Modern Art']</td>\n",
       "      <td>Arts and Humanities</td>\n",
       "      <td>https://www.coursera.org/learn/fashion-design</td>\n",
       "    </tr>\n",
       "    <tr>\n",
       "      <th>1</th>\n",
       "      <td>Modern American Poetry</td>\n",
       "      <td>4.4</td>\n",
       "      <td>Beginner level</td>\n",
       "      <td>Approx. 34 hours to complete</td>\n",
       "      <td>Flexible schedule</td>\n",
       "      <td>100 reviews</td>\n",
       "      <td>NaN</td>\n",
       "      <td>[]</td>\n",
       "      <td>['Orientation', 'Module 1', 'Module 2', 'Modul...</td>\n",
       "      <td>['Cary Nelson']</td>\n",
       "      <td>['University of Illinois at Urbana-Champaign']</td>\n",
       "      <td>Arts and Humanities</td>\n",
       "      <td>https://www.coursera.org/learn/modern-american...</td>\n",
       "    </tr>\n",
       "    <tr>\n",
       "      <th>2</th>\n",
       "      <td>Pixel Art for Video Games</td>\n",
       "      <td>4.5</td>\n",
       "      <td>Beginner level</td>\n",
       "      <td>9 hours (approximately)</td>\n",
       "      <td>Flexible schedule</td>\n",
       "      <td>227 reviews</td>\n",
       "      <td>NaN</td>\n",
       "      <td>[]</td>\n",
       "      <td>['Week 1: Introduction to Pixel Art', 'Week 2:...</td>\n",
       "      <td>['Andrew Dennis', 'Ricardo Guimaraes']</td>\n",
       "      <td>['Michigan State University']</td>\n",
       "      <td>Arts and Humanities</td>\n",
       "      <td>https://www.coursera.org/learn/pixel-art-video...</td>\n",
       "    </tr>\n",
       "    <tr>\n",
       "      <th>3</th>\n",
       "      <td>Distribución digital de la música independiente</td>\n",
       "      <td>NaN</td>\n",
       "      <td>Beginner level</td>\n",
       "      <td>Approx. 8 hours to complete</td>\n",
       "      <td>Flexible schedule</td>\n",
       "      <td>NaN</td>\n",
       "      <td>NaN</td>\n",
       "      <td>[]</td>\n",
       "      <td>['Semana 1', 'Semana 2', 'Semana 3', 'Semana 4']</td>\n",
       "      <td>['Eduardo de la Vara Brown.']</td>\n",
       "      <td>['SAE Institute México']</td>\n",
       "      <td>Arts and Humanities</td>\n",
       "      <td>https://www.coursera.org/learn/distribucion-di...</td>\n",
       "    </tr>\n",
       "    <tr>\n",
       "      <th>4</th>\n",
       "      <td>The Blues: Understanding and Performing an Ame...</td>\n",
       "      <td>4.8</td>\n",
       "      <td>Beginner level</td>\n",
       "      <td>Approx. 11 hours to complete</td>\n",
       "      <td>Flexible schedule</td>\n",
       "      <td>582 reviews</td>\n",
       "      <td>Students will be able to describe the blues as...</td>\n",
       "      <td>['Music', 'Chord', 'Jazz', 'Jazz Improvisation']</td>\n",
       "      <td>['Blues Progressions – Theory and Practice ', ...</td>\n",
       "      <td>['Dariusz Terefenko']</td>\n",
       "      <td>['University of Rochester']</td>\n",
       "      <td>Arts and Humanities</td>\n",
       "      <td>https://www.coursera.org/learn/the-blues</td>\n",
       "    </tr>\n",
       "  </tbody>\n",
       "</table>\n",
       "</div>"
      ],
      "text/plain": [
       "                                        Course Title  Rating           Level  \\\n",
       "0                                  Fashion as Design     4.8  Beginner level   \n",
       "1                             Modern American Poetry     4.4  Beginner level   \n",
       "2                          Pixel Art for Video Games     4.5  Beginner level   \n",
       "3    Distribución digital de la música independiente     NaN  Beginner level   \n",
       "4  The Blues: Understanding and Performing an Ame...     4.8  Beginner level   \n",
       "\n",
       "                       Duration           Schedule         Review  \\\n",
       "0      20 hours (approximately)  Flexible schedule  2,813 reviews   \n",
       "1  Approx. 34 hours to complete  Flexible schedule    100 reviews   \n",
       "2       9 hours (approximately)  Flexible schedule    227 reviews   \n",
       "3   Approx. 8 hours to complete  Flexible schedule            NaN   \n",
       "4  Approx. 11 hours to complete  Flexible schedule    582 reviews   \n",
       "\n",
       "                                 What you will learn  \\\n",
       "0                                                NaN   \n",
       "1                                                NaN   \n",
       "2                                                NaN   \n",
       "3                                                NaN   \n",
       "4  Students will be able to describe the blues as...   \n",
       "\n",
       "                                         Skill gain  \\\n",
       "0   ['Art History', 'Art', 'History', 'Creativity']   \n",
       "1                                                []   \n",
       "2                                                []   \n",
       "3                                                []   \n",
       "4  ['Music', 'Chord', 'Jazz', 'Jazz Improvisation']   \n",
       "\n",
       "                                             Modules  \\\n",
       "0  ['Introduction', 'Heroes', 'Silhouettes', 'Cou...   \n",
       "1  ['Orientation', 'Module 1', 'Module 2', 'Modul...   \n",
       "2  ['Week 1: Introduction to Pixel Art', 'Week 2:...   \n",
       "3   ['Semana 1', 'Semana 2', 'Semana 3', 'Semana 4']   \n",
       "4  ['Blues Progressions – Theory and Practice ', ...   \n",
       "\n",
       "                                          Instructor  \\\n",
       "0  ['Anna Burckhardt', 'Paola Antonelli', 'Michel...   \n",
       "1                                    ['Cary Nelson']   \n",
       "2             ['Andrew Dennis', 'Ricardo Guimaraes']   \n",
       "3                      ['Eduardo de la Vara Brown.']   \n",
       "4                              ['Dariusz Terefenko']   \n",
       "\n",
       "                                       Offered By              Keyword  \\\n",
       "0                    ['The Museum of Modern Art']  Arts and Humanities   \n",
       "1  ['University of Illinois at Urbana-Champaign']  Arts and Humanities   \n",
       "2                   ['Michigan State University']  Arts and Humanities   \n",
       "3                        ['SAE Institute México']  Arts and Humanities   \n",
       "4                     ['University of Rochester']  Arts and Humanities   \n",
       "\n",
       "                                          Course Url  \n",
       "0      https://www.coursera.org/learn/fashion-design  \n",
       "1  https://www.coursera.org/learn/modern-american...  \n",
       "2  https://www.coursera.org/learn/pixel-art-video...  \n",
       "3  https://www.coursera.org/learn/distribucion-di...  \n",
       "4           https://www.coursera.org/learn/the-blues  "
      ]
     },
     "execution_count": 1,
     "metadata": {},
     "output_type": "execute_result"
    }
   ],
   "source": [
    "import pandas as pd\n",
    "import numpy\n",
    "import re\n",
    "from nltk.tokenize import word_tokenize\n",
    "from nltk.stem import SnowballStemmer\n",
    "import nltk\n",
    "nltk.download('punkt')\n",
    "\n",
    "df = pd.read_csv('Datos.csv')\n",
    "\n",
    "df.head()\n",
    "\n"
   ]
  },
  {
   "cell_type": "code",
   "execution_count": 2,
   "metadata": {},
   "outputs": [
    {
     "name": "stdout",
     "output_type": "stream",
     "text": [
      "Index(['Course Title', 'Rating', 'Level', 'Duration', 'Schedule', 'Review',\n",
      "       'What you will learn', 'Skill gain', 'Modules', 'Instructor',\n",
      "       'Offered By', 'Keyword', 'Course Url'],\n",
      "      dtype='object')\n"
     ]
    }
   ],
   "source": [
    "# Eliminar filas duplicadas\n",
    "df = df.drop_duplicates()\n",
    "\n",
    "# Manejar valores nulos (rellenar con un valor específico o eliminar)\n",
    "df = df.fillna(0)  # o df.dropna()\n",
    "\n",
    "# Mostrar los nombres de las columnas\n",
    "print(df.columns)\n",
    "\n",
    "# Convertir la columna 'Rating' a tipo float\n",
    "df['Rating'] = df['Rating'].astype(float)\n",
    "\n"
   ]
  },
  {
   "cell_type": "markdown",
   "metadata": {},
   "source": [
    "# Analisis"
   ]
  },
  {
   "cell_type": "code",
   "execution_count": 3,
   "metadata": {},
   "outputs": [
    {
     "name": "stdout",
     "output_type": "stream",
     "text": [
      "Course Title\n",
      " Assisting Public Sector Decision Makers With Policy Analysis                                                          4.8\n",
      " Atención prehospitalaria del ictus agudo y selección de pacientes para tratamiento endovascular con la escala RACE    4.9\n",
      " Build a social media presence for your business using Canva                                                           4.7\n",
      " Build social awareness content for Twitter with Canva                                                                 0.0\n",
      " Comercio, Inmigración y Tipos de Cambio en un Mundo Globalizado                                                       4.9\n",
      "                                                                                                                      ... \n",
      "현대 로봇공학, 강좌 2: 로봇 기구학                                                                                                  0.0\n",
      "현대 로봇공학, 강좌 3: 로봇 동역학                                                                                                  0.0\n",
      "현대 로봇공학, 강좌 4: 로봇 동작 계획 및 제어                                                                                           0.0\n",
      "현대 로봇공학, 강좌 5:  로봇 매니퓰레이션 및 차륜형 이동 로봇                                                                                  0.0\n",
      "현대 로봇공학, 강좌 6: 캡스톤 프로젝트, 모바일 매니퓰레이션                                                                                    0.0\n",
      "Name: Rating, Length: 6392, dtype: float64\n"
     ]
    }
   ],
   "source": [
    "# Calificaciones promedio por curso.\n",
    "promedio_calificaciones = df.groupby('Course Title')['Rating'].mean()\n",
    "print(promedio_calificaciones)\n"
   ]
  },
  {
   "cell_type": "code",
   "execution_count": 4,
   "metadata": {},
   "outputs": [
    {
     "name": "stdout",
     "output_type": "stream",
     "text": [
      "Curso con mejor rating: Songwriting: Writing the Music con 5.0\n",
      "Curso con peor rating: Distribución digital de la música independiente con 0.0\n"
     ]
    }
   ],
   "source": [
    "# Curso con mayor y menor rating.\n",
    "curso_con_mejor_rating = df.loc[df['Rating'].idxmax()]\n",
    "curso_con_peor_rating = df.loc[df['Rating'].idxmin()]\n",
    "\n",
    "print(f\"Curso con mejor rating: {curso_con_mejor_rating['Course Title']} con {curso_con_mejor_rating['Rating']}\")\n",
    "print(f\"Curso con peor rating: {curso_con_peor_rating['Course Title']} con {curso_con_peor_rating['Rating']}\")\n"
   ]
  },
  {
   "cell_type": "code",
   "execution_count": 5,
   "metadata": {},
   "outputs": [
    {
     "name": "stdout",
     "output_type": "stream",
     "text": [
      "Porcentaje de cursos con horario flexible: 92.63%\n"
     ]
    }
   ],
   "source": [
    "# Porcentaje de cursos con horario flexible.\n",
    "cursos_horario_flexible = df[df['Schedule'].str.contains('Flexible', case=False, na=False)]\n",
    "porcentaje_flexible = (len(cursos_horario_flexible) / len(df)) * 100\n",
    "porcentaje_flexible = round(porcentaje_flexible, 2)\n",
    "\n",
    "print(f\"Porcentaje de cursos con horario flexible: {porcentaje_flexible}%\")\n"
   ]
  },
  {
   "cell_type": "markdown",
   "metadata": {},
   "source": [
    "# Analisis .txt"
   ]
  },
  {
   "cell_type": "code",
   "execution_count": 7,
   "metadata": {},
   "outputs": [
    {
     "name": "stdout",
     "output_type": "stream",
     "text": [
      "Comentario extraído:\n",
      "Escandalizada y confundida por las malas reseñas.\n"
     ]
    }
   ],
   "source": [
    "# Leer el archivo de comentarios\n",
    "with open(\"Coursera Comments.txt\", \"r\", encoding=\"utf-8\") as file:\n",
    "    contenido = file.read()\n",
    "\n",
    "# Extraer los comentarios utilizando una expresión regular\n",
    "# (Puedes ajustar el patrón según la estructura de tu archivo)\n",
    "comentarios = re.findall(r'\\n(.*?\\.)\\n', contenido)\n",
    "\n",
    "# Mostrar una muestra para comprobar\n",
    "print(\"Comentario extraído:\")\n",
    "print(comentarios[0])\n"
   ]
  },
  {
   "cell_type": "code",
   "execution_count": 8,
   "metadata": {},
   "outputs": [
    {
     "data": {
      "application/vnd.microsoft.datawrangler.viewer.v0+json": {
       "columns": [
        {
         "name": "index",
         "rawType": "int64",
         "type": "integer"
        },
        {
         "name": "Comentario",
         "rawType": "object",
         "type": "string"
        },
        {
         "name": "Tokens",
         "rawType": "object",
         "type": "unknown"
        }
       ],
       "conversionMethod": "pd.DataFrame",
       "ref": "b5ead2bf-c567-4305-ae2b-0ffa28a12cf3",
       "rows": [
        [
         "0",
         "Escandalizada y confundida por las malas reseñas.",
         "['Escandalizada', 'y', 'confundida', 'por', 'las', 'malas', 'reseñas', '.']"
        ],
        [
         "1",
         "con detenimiento las \"letras pequeñas\" sobre los cursos gratis. que luego son pagos. En mi caso leí con detenimiento toda la información y transparencia sí que hay sobre el tema de pagos. En fin... Yo sí recomiendo coursera, tienen certificados de muchas universidades e instituciones reconocidas y estoy aprendiendo más con este curso de front end de meta que con un master de 3000 que pagué en su momento.....",
         "['con', 'detenimiento', 'las', '``', 'letras', 'pequeñas', \"''\", 'sobre', 'los', 'cursos', 'gratis', '.', 'que', 'luego', 'son', 'pagos', '.', 'En', 'mi', 'caso', 'leí', 'con', 'detenimiento', 'toda', 'la', 'información', 'y', 'transparencia', 'sí', 'que', 'hay', 'sobre', 'el', 'tema', 'de', 'pagos', '.', 'En', 'fin', '...', 'Yo', 'sí', 'recomiendo', 'coursera', ',', 'tienen', 'certificados', 'de', 'muchas', 'universidades', 'e', 'instituciones', 'reconocidas', 'y', 'estoy', 'aprendiendo', 'más', 'con', 'este', 'curso', 'de', 'front', 'end', 'de', 'meta', 'que', 'con', 'un', 'master', 'de', '3000', 'que', 'pagué', 'en', 'su', 'momento', '.....']"
        ],
        [
         "2",
         "No es estafa.",
         "['No', 'es', 'estafa', '.']"
        ],
        [
         "3",
         "ESTAFADORES!! Como no quiero suscribirme a Coursera Plus, me han cancelado el curso que había pagado.",
         "['ESTAFADORES', '!', '!', 'Como', 'no', 'quiero', 'suscribirme', 'a', 'Coursera', 'Plus', ',', 'me', 'han', 'cancelado', 'el', 'curso', 'que', 'había', 'pagado', '.']"
        ],
        [
         "4",
         "Mismo caso: estaba explorando coursera, no aprobé ningún pago y me cobraron el primer mes. No hay forma de comunicarse y reclamarlo.",
         "['Mismo', 'caso', ':', 'estaba', 'explorando', 'coursera', ',', 'no', 'aprobé', 'ningún', 'pago', 'y', 'me', 'cobraron', 'el', 'primer', 'mes', '.', 'No', 'hay', 'forma', 'de', 'comunicarse', 'y', 'reclamarlo', '.']"
        ]
       ],
       "shape": {
        "columns": 2,
        "rows": 5
       }
      },
      "text/html": [
       "<div>\n",
       "<style scoped>\n",
       "    .dataframe tbody tr th:only-of-type {\n",
       "        vertical-align: middle;\n",
       "    }\n",
       "\n",
       "    .dataframe tbody tr th {\n",
       "        vertical-align: top;\n",
       "    }\n",
       "\n",
       "    .dataframe thead th {\n",
       "        text-align: right;\n",
       "    }\n",
       "</style>\n",
       "<table border=\"1\" class=\"dataframe\">\n",
       "  <thead>\n",
       "    <tr style=\"text-align: right;\">\n",
       "      <th></th>\n",
       "      <th>Comentario</th>\n",
       "      <th>Tokens</th>\n",
       "    </tr>\n",
       "  </thead>\n",
       "  <tbody>\n",
       "    <tr>\n",
       "      <th>0</th>\n",
       "      <td>Escandalizada y confundida por las malas reseñas.</td>\n",
       "      <td>[Escandalizada, y, confundida, por, las, malas...</td>\n",
       "    </tr>\n",
       "    <tr>\n",
       "      <th>1</th>\n",
       "      <td>con detenimiento las \"letras pequeñas\" sobre l...</td>\n",
       "      <td>[con, detenimiento, las, ``, letras, pequeñas,...</td>\n",
       "    </tr>\n",
       "    <tr>\n",
       "      <th>2</th>\n",
       "      <td>No es estafa.</td>\n",
       "      <td>[No, es, estafa, .]</td>\n",
       "    </tr>\n",
       "    <tr>\n",
       "      <th>3</th>\n",
       "      <td>ESTAFADORES!! Como no quiero suscribirme a Cou...</td>\n",
       "      <td>[ESTAFADORES, !, !, Como, no, quiero, suscribi...</td>\n",
       "    </tr>\n",
       "    <tr>\n",
       "      <th>4</th>\n",
       "      <td>Mismo caso: estaba explorando coursera, no apr...</td>\n",
       "      <td>[Mismo, caso, :, estaba, explorando, coursera,...</td>\n",
       "    </tr>\n",
       "  </tbody>\n",
       "</table>\n",
       "</div>"
      ],
      "text/plain": [
       "                                          Comentario  \\\n",
       "0  Escandalizada y confundida por las malas reseñas.   \n",
       "1  con detenimiento las \"letras pequeñas\" sobre l...   \n",
       "2                                      No es estafa.   \n",
       "3  ESTAFADORES!! Como no quiero suscribirme a Cou...   \n",
       "4  Mismo caso: estaba explorando coursera, no apr...   \n",
       "\n",
       "                                              Tokens  \n",
       "0  [Escandalizada, y, confundida, por, las, malas...  \n",
       "1  [con, detenimiento, las, ``, letras, pequeñas,...  \n",
       "2                                [No, es, estafa, .]  \n",
       "3  [ESTAFADORES, !, !, Como, no, quiero, suscribi...  \n",
       "4  [Mismo, caso, :, estaba, explorando, coursera,...  "
      ]
     },
     "execution_count": 8,
     "metadata": {},
     "output_type": "execute_result"
    }
   ],
   "source": [
    "# Listado de tokens por comentario\n",
    "datos_tokens = []\n",
    "# Por ejemplo, procesar los primeros 10 comentarios (ajusta según lo necesario)\n",
    "for comentario in comentarios[:10]:\n",
    "    tokens = word_tokenize(comentario, language='spanish')\n",
    "    datos_tokens.append({\n",
    "        \"Comentario\": comentario,\n",
    "        \"Tokens\": tokens\n",
    "    })\n",
    "\n",
    "# Crear DataFrame y mostrar resultados\n",
    "df_tokens = pd.DataFrame(datos_tokens)\n",
    "df_tokens.head()\n"
   ]
  },
  {
   "cell_type": "code",
   "execution_count": 9,
   "metadata": {},
   "outputs": [
    {
     "data": {
      "application/vnd.microsoft.datawrangler.viewer.v0+json": {
       "columns": [
        {
         "name": "index",
         "rawType": "int64",
         "type": "integer"
        },
        {
         "name": "Comentario",
         "rawType": "object",
         "type": "string"
        },
        {
         "name": "Palabra",
         "rawType": "object",
         "type": "string"
        },
        {
         "name": "Raíz (Stemming)",
         "rawType": "object",
         "type": "string"
        }
       ],
       "conversionMethod": "pd.DataFrame",
       "ref": "9c439cf8-d8ad-44aa-b20b-aa45601c56af",
       "rows": [
        [
         "0",
         "Escandalizada y confundida por las malas reseñas.",
         "Escandalizada",
         "escandaliz"
        ],
        [
         "1",
         "Escandalizada y confundida por las malas reseñas.",
         "y",
         "y"
        ],
        [
         "2",
         "Escandalizada y confundida por las malas reseñas.",
         "confundida",
         "confund"
        ],
        [
         "3",
         "Escandalizada y confundida por las malas reseñas.",
         "por",
         "por"
        ],
        [
         "4",
         "Escandalizada y confundida por las malas reseñas.",
         "las",
         "las"
        ],
        [
         "5",
         "Escandalizada y confundida por las malas reseñas.",
         "malas",
         "mal"
        ],
        [
         "6",
         "Escandalizada y confundida por las malas reseñas.",
         "reseñas",
         "reseñ"
        ],
        [
         "7",
         "Escandalizada y confundida por las malas reseñas.",
         ".",
         "."
        ],
        [
         "8",
         "con detenimiento las \"letras pequeñas\" sobre los cursos gratis. que luego son pagos. En mi caso leí con detenimiento toda la información y transparencia sí que hay sobre el tema de pagos. En fin... Yo sí recomiendo coursera, tienen certificados de muchas universidades e instituciones reconocidas y estoy aprendiendo más con este curso de front end de meta que con un master de 3000 que pagué en su momento.....",
         "con",
         "con"
        ],
        [
         "9",
         "con detenimiento las \"letras pequeñas\" sobre los cursos gratis. que luego son pagos. En mi caso leí con detenimiento toda la información y transparencia sí que hay sobre el tema de pagos. En fin... Yo sí recomiendo coursera, tienen certificados de muchas universidades e instituciones reconocidas y estoy aprendiendo más con este curso de front end de meta que con un master de 3000 que pagué en su momento.....",
         "detenimiento",
         "deten"
        ],
        [
         "10",
         "con detenimiento las \"letras pequeñas\" sobre los cursos gratis. que luego son pagos. En mi caso leí con detenimiento toda la información y transparencia sí que hay sobre el tema de pagos. En fin... Yo sí recomiendo coursera, tienen certificados de muchas universidades e instituciones reconocidas y estoy aprendiendo más con este curso de front end de meta que con un master de 3000 que pagué en su momento.....",
         "las",
         "las"
        ],
        [
         "11",
         "con detenimiento las \"letras pequeñas\" sobre los cursos gratis. que luego son pagos. En mi caso leí con detenimiento toda la información y transparencia sí que hay sobre el tema de pagos. En fin... Yo sí recomiendo coursera, tienen certificados de muchas universidades e instituciones reconocidas y estoy aprendiendo más con este curso de front end de meta que con un master de 3000 que pagué en su momento.....",
         "``",
         "``"
        ],
        [
         "12",
         "con detenimiento las \"letras pequeñas\" sobre los cursos gratis. que luego son pagos. En mi caso leí con detenimiento toda la información y transparencia sí que hay sobre el tema de pagos. En fin... Yo sí recomiendo coursera, tienen certificados de muchas universidades e instituciones reconocidas y estoy aprendiendo más con este curso de front end de meta que con un master de 3000 que pagué en su momento.....",
         "letras",
         "letr"
        ],
        [
         "13",
         "con detenimiento las \"letras pequeñas\" sobre los cursos gratis. que luego son pagos. En mi caso leí con detenimiento toda la información y transparencia sí que hay sobre el tema de pagos. En fin... Yo sí recomiendo coursera, tienen certificados de muchas universidades e instituciones reconocidas y estoy aprendiendo más con este curso de front end de meta que con un master de 3000 que pagué en su momento.....",
         "pequeñas",
         "pequeñ"
        ],
        [
         "14",
         "con detenimiento las \"letras pequeñas\" sobre los cursos gratis. que luego son pagos. En mi caso leí con detenimiento toda la información y transparencia sí que hay sobre el tema de pagos. En fin... Yo sí recomiendo coursera, tienen certificados de muchas universidades e instituciones reconocidas y estoy aprendiendo más con este curso de front end de meta que con un master de 3000 que pagué en su momento.....",
         "''",
         "''"
        ],
        [
         "15",
         "con detenimiento las \"letras pequeñas\" sobre los cursos gratis. que luego son pagos. En mi caso leí con detenimiento toda la información y transparencia sí que hay sobre el tema de pagos. En fin... Yo sí recomiendo coursera, tienen certificados de muchas universidades e instituciones reconocidas y estoy aprendiendo más con este curso de front end de meta que con un master de 3000 que pagué en su momento.....",
         "sobre",
         "sobr"
        ],
        [
         "16",
         "con detenimiento las \"letras pequeñas\" sobre los cursos gratis. que luego son pagos. En mi caso leí con detenimiento toda la información y transparencia sí que hay sobre el tema de pagos. En fin... Yo sí recomiendo coursera, tienen certificados de muchas universidades e instituciones reconocidas y estoy aprendiendo más con este curso de front end de meta que con un master de 3000 que pagué en su momento.....",
         "los",
         "los"
        ],
        [
         "17",
         "con detenimiento las \"letras pequeñas\" sobre los cursos gratis. que luego son pagos. En mi caso leí con detenimiento toda la información y transparencia sí que hay sobre el tema de pagos. En fin... Yo sí recomiendo coursera, tienen certificados de muchas universidades e instituciones reconocidas y estoy aprendiendo más con este curso de front end de meta que con un master de 3000 que pagué en su momento.....",
         "cursos",
         "curs"
        ],
        [
         "18",
         "con detenimiento las \"letras pequeñas\" sobre los cursos gratis. que luego son pagos. En mi caso leí con detenimiento toda la información y transparencia sí que hay sobre el tema de pagos. En fin... Yo sí recomiendo coursera, tienen certificados de muchas universidades e instituciones reconocidas y estoy aprendiendo más con este curso de front end de meta que con un master de 3000 que pagué en su momento.....",
         "gratis",
         "gratis"
        ],
        [
         "19",
         "con detenimiento las \"letras pequeñas\" sobre los cursos gratis. que luego son pagos. En mi caso leí con detenimiento toda la información y transparencia sí que hay sobre el tema de pagos. En fin... Yo sí recomiendo coursera, tienen certificados de muchas universidades e instituciones reconocidas y estoy aprendiendo más con este curso de front end de meta que con un master de 3000 que pagué en su momento.....",
         ".",
         "."
        ]
       ],
       "shape": {
        "columns": 3,
        "rows": 20
       }
      },
      "text/html": [
       "<div>\n",
       "<style scoped>\n",
       "    .dataframe tbody tr th:only-of-type {\n",
       "        vertical-align: middle;\n",
       "    }\n",
       "\n",
       "    .dataframe tbody tr th {\n",
       "        vertical-align: top;\n",
       "    }\n",
       "\n",
       "    .dataframe thead th {\n",
       "        text-align: right;\n",
       "    }\n",
       "</style>\n",
       "<table border=\"1\" class=\"dataframe\">\n",
       "  <thead>\n",
       "    <tr style=\"text-align: right;\">\n",
       "      <th></th>\n",
       "      <th>Comentario</th>\n",
       "      <th>Palabra</th>\n",
       "      <th>Raíz (Stemming)</th>\n",
       "    </tr>\n",
       "  </thead>\n",
       "  <tbody>\n",
       "    <tr>\n",
       "      <th>0</th>\n",
       "      <td>Escandalizada y confundida por las malas reseñas.</td>\n",
       "      <td>Escandalizada</td>\n",
       "      <td>escandaliz</td>\n",
       "    </tr>\n",
       "    <tr>\n",
       "      <th>1</th>\n",
       "      <td>Escandalizada y confundida por las malas reseñas.</td>\n",
       "      <td>y</td>\n",
       "      <td>y</td>\n",
       "    </tr>\n",
       "    <tr>\n",
       "      <th>2</th>\n",
       "      <td>Escandalizada y confundida por las malas reseñas.</td>\n",
       "      <td>confundida</td>\n",
       "      <td>confund</td>\n",
       "    </tr>\n",
       "    <tr>\n",
       "      <th>3</th>\n",
       "      <td>Escandalizada y confundida por las malas reseñas.</td>\n",
       "      <td>por</td>\n",
       "      <td>por</td>\n",
       "    </tr>\n",
       "    <tr>\n",
       "      <th>4</th>\n",
       "      <td>Escandalizada y confundida por las malas reseñas.</td>\n",
       "      <td>las</td>\n",
       "      <td>las</td>\n",
       "    </tr>\n",
       "    <tr>\n",
       "      <th>5</th>\n",
       "      <td>Escandalizada y confundida por las malas reseñas.</td>\n",
       "      <td>malas</td>\n",
       "      <td>mal</td>\n",
       "    </tr>\n",
       "    <tr>\n",
       "      <th>6</th>\n",
       "      <td>Escandalizada y confundida por las malas reseñas.</td>\n",
       "      <td>reseñas</td>\n",
       "      <td>reseñ</td>\n",
       "    </tr>\n",
       "    <tr>\n",
       "      <th>7</th>\n",
       "      <td>Escandalizada y confundida por las malas reseñas.</td>\n",
       "      <td>.</td>\n",
       "      <td>.</td>\n",
       "    </tr>\n",
       "    <tr>\n",
       "      <th>8</th>\n",
       "      <td>con detenimiento las \"letras pequeñas\" sobre l...</td>\n",
       "      <td>con</td>\n",
       "      <td>con</td>\n",
       "    </tr>\n",
       "    <tr>\n",
       "      <th>9</th>\n",
       "      <td>con detenimiento las \"letras pequeñas\" sobre l...</td>\n",
       "      <td>detenimiento</td>\n",
       "      <td>deten</td>\n",
       "    </tr>\n",
       "    <tr>\n",
       "      <th>10</th>\n",
       "      <td>con detenimiento las \"letras pequeñas\" sobre l...</td>\n",
       "      <td>las</td>\n",
       "      <td>las</td>\n",
       "    </tr>\n",
       "    <tr>\n",
       "      <th>11</th>\n",
       "      <td>con detenimiento las \"letras pequeñas\" sobre l...</td>\n",
       "      <td>``</td>\n",
       "      <td>``</td>\n",
       "    </tr>\n",
       "    <tr>\n",
       "      <th>12</th>\n",
       "      <td>con detenimiento las \"letras pequeñas\" sobre l...</td>\n",
       "      <td>letras</td>\n",
       "      <td>letr</td>\n",
       "    </tr>\n",
       "    <tr>\n",
       "      <th>13</th>\n",
       "      <td>con detenimiento las \"letras pequeñas\" sobre l...</td>\n",
       "      <td>pequeñas</td>\n",
       "      <td>pequeñ</td>\n",
       "    </tr>\n",
       "    <tr>\n",
       "      <th>14</th>\n",
       "      <td>con detenimiento las \"letras pequeñas\" sobre l...</td>\n",
       "      <td>''</td>\n",
       "      <td>''</td>\n",
       "    </tr>\n",
       "    <tr>\n",
       "      <th>15</th>\n",
       "      <td>con detenimiento las \"letras pequeñas\" sobre l...</td>\n",
       "      <td>sobre</td>\n",
       "      <td>sobr</td>\n",
       "    </tr>\n",
       "    <tr>\n",
       "      <th>16</th>\n",
       "      <td>con detenimiento las \"letras pequeñas\" sobre l...</td>\n",
       "      <td>los</td>\n",
       "      <td>los</td>\n",
       "    </tr>\n",
       "    <tr>\n",
       "      <th>17</th>\n",
       "      <td>con detenimiento las \"letras pequeñas\" sobre l...</td>\n",
       "      <td>cursos</td>\n",
       "      <td>curs</td>\n",
       "    </tr>\n",
       "    <tr>\n",
       "      <th>18</th>\n",
       "      <td>con detenimiento las \"letras pequeñas\" sobre l...</td>\n",
       "      <td>gratis</td>\n",
       "      <td>gratis</td>\n",
       "    </tr>\n",
       "    <tr>\n",
       "      <th>19</th>\n",
       "      <td>con detenimiento las \"letras pequeñas\" sobre l...</td>\n",
       "      <td>.</td>\n",
       "      <td>.</td>\n",
       "    </tr>\n",
       "  </tbody>\n",
       "</table>\n",
       "</div>"
      ],
      "text/plain": [
       "                                           Comentario        Palabra  \\\n",
       "0   Escandalizada y confundida por las malas reseñas.  Escandalizada   \n",
       "1   Escandalizada y confundida por las malas reseñas.              y   \n",
       "2   Escandalizada y confundida por las malas reseñas.     confundida   \n",
       "3   Escandalizada y confundida por las malas reseñas.            por   \n",
       "4   Escandalizada y confundida por las malas reseñas.            las   \n",
       "5   Escandalizada y confundida por las malas reseñas.          malas   \n",
       "6   Escandalizada y confundida por las malas reseñas.        reseñas   \n",
       "7   Escandalizada y confundida por las malas reseñas.              .   \n",
       "8   con detenimiento las \"letras pequeñas\" sobre l...            con   \n",
       "9   con detenimiento las \"letras pequeñas\" sobre l...   detenimiento   \n",
       "10  con detenimiento las \"letras pequeñas\" sobre l...            las   \n",
       "11  con detenimiento las \"letras pequeñas\" sobre l...             ``   \n",
       "12  con detenimiento las \"letras pequeñas\" sobre l...         letras   \n",
       "13  con detenimiento las \"letras pequeñas\" sobre l...       pequeñas   \n",
       "14  con detenimiento las \"letras pequeñas\" sobre l...             ''   \n",
       "15  con detenimiento las \"letras pequeñas\" sobre l...          sobre   \n",
       "16  con detenimiento las \"letras pequeñas\" sobre l...            los   \n",
       "17  con detenimiento las \"letras pequeñas\" sobre l...         cursos   \n",
       "18  con detenimiento las \"letras pequeñas\" sobre l...         gratis   \n",
       "19  con detenimiento las \"letras pequeñas\" sobre l...              .   \n",
       "\n",
       "   Raíz (Stemming)  \n",
       "0       escandaliz  \n",
       "1                y  \n",
       "2          confund  \n",
       "3              por  \n",
       "4              las  \n",
       "5              mal  \n",
       "6            reseñ  \n",
       "7                .  \n",
       "8              con  \n",
       "9            deten  \n",
       "10             las  \n",
       "11              ``  \n",
       "12            letr  \n",
       "13          pequeñ  \n",
       "14              ''  \n",
       "15            sobr  \n",
       "16             los  \n",
       "17            curs  \n",
       "18          gratis  \n",
       "19               .  "
      ]
     },
     "execution_count": 9,
     "metadata": {},
     "output_type": "execute_result"
    }
   ],
   "source": [
    "# Inicializar el stemmer para español\n",
    "stemmer = SnowballStemmer('spanish')\n",
    "\n",
    "datos_stemming = []\n",
    "# Procesar un subconjunto de comentarios, por ejemplo, los primeros 10.\n",
    "for comentario in comentarios[:10]:\n",
    "    tokens = word_tokenize(comentario, language='spanish')\n",
    "    for token in tokens:\n",
    "        datos_stemming.append({\n",
    "            \"Comentario\": comentario,\n",
    "            \"Palabra\": token,\n",
    "            \"Raíz (Stemming)\": stemmer.stem(token)\n",
    "        })\n",
    "\n",
    "# Crear un DataFrame para visualizar los resultados\n",
    "df_stemming = pd.DataFrame(datos_stemming)\n",
    "df_stemming.head(20)  # Muestra las primeras 20 filas, por ejemplo\n"
   ]
  },
  {
   "cell_type": "code",
   "execution_count": null,
   "metadata": {},
   "outputs": [
    {
     "ename": "ModuleNotFoundError",
     "evalue": "No module named 'spacy'",
     "output_type": "error",
     "traceback": [
      "\u001b[0;31m---------------------------------------------------------------------------\u001b[0m",
      "\u001b[0;31mModuleNotFoundError\u001b[0m                       Traceback (most recent call last)",
      "Cell \u001b[0;32mIn[57], line 5\u001b[0m\n\u001b[1;32m      1\u001b[0m \u001b[38;5;66;03m# Requiere instalar spaCy y el modelo español:\u001b[39;00m\n\u001b[1;32m      2\u001b[0m \u001b[38;5;66;03m# pip install spacy\u001b[39;00m\n\u001b[1;32m      3\u001b[0m \u001b[38;5;66;03m# python -m spacy download es_core_news_sm\u001b[39;00m\n\u001b[0;32m----> 5\u001b[0m \u001b[38;5;28;01mimport\u001b[39;00m \u001b[38;5;21;01mspacy\u001b[39;00m\n\u001b[1;32m      6\u001b[0m nlp \u001b[38;5;241m=\u001b[39m spacy\u001b[38;5;241m.\u001b[39mload(\u001b[38;5;124m\"\u001b[39m\u001b[38;5;124mes_core_news_sm\u001b[39m\u001b[38;5;124m\"\u001b[39m)\n\u001b[1;32m      8\u001b[0m \u001b[38;5;66;03m# Ejemplo de lematización para un comentario\u001b[39;00m\n",
      "\u001b[0;31mModuleNotFoundError\u001b[0m: No module named 'spacy'"
     ]
    }
   ],
   "source": [
    "# Requiere instalar spaCy y el modelo español:\n",
    "# pip install spacy\n",
    "# python -m spacy download es_core_news_sm\n",
    "\n",
    "# Ejemplo de lematización para un comentario\n",
    "comentario_ejemplo = comentarios[0]  # Usa el primer comentario\n",
    "doc = nlp(comentario_ejemplo)\n",
    "datos_lema = []\n",
    "for token in doc:\n",
    "    datos_lema.append({\n",
    "        \"Palabra\": token.text,\n",
    "        \"Lema\": token.lemma_\n",
    "    })\n",
    "df_lema = pd.DataFrame(datos_lema)\n",
    "df_lema.head()\n"
   ]
  },
  {
   "cell_type": "markdown",
   "metadata": {},
   "source": [
    "# Graficas"
   ]
  }
 ],
 "metadata": {
  "kernelspec": {
   "display_name": "Python 3",
   "language": "python",
   "name": "python3"
  },
  "language_info": {
   "codemirror_mode": {
    "name": "ipython",
    "version": 3
   },
   "file_extension": ".py",
   "mimetype": "text/x-python",
   "name": "python",
   "nbconvert_exporter": "python",
   "pygments_lexer": "ipython3",
   "version": "3.12.3"
  }
 },
 "nbformat": 4,
 "nbformat_minor": 2
}
