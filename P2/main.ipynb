{
 "cells": [
  {
   "cell_type": "markdown",
   "metadata": {},
   "source": [
    "## Practica 2\n",
    "\n"
   ]
  },
  {
   "cell_type": "code",
   "execution_count": null,
   "metadata": {},
   "outputs": [
    {
     "data": {
      "text/html": [
       "<div>\n",
       "<style scoped>\n",
       "    .dataframe tbody tr th:only-of-type {\n",
       "        vertical-align: middle;\n",
       "    }\n",
       "\n",
       "    .dataframe tbody tr th {\n",
       "        vertical-align: top;\n",
       "    }\n",
       "\n",
       "    .dataframe thead th {\n",
       "        text-align: right;\n",
       "    }\n",
       "</style>\n",
       "<table border=\"1\" class=\"dataframe\">\n",
       "  <thead>\n",
       "    <tr style=\"text-align: right;\">\n",
       "      <th></th>\n",
       "      <th>Course Title</th>\n",
       "      <th>Rating</th>\n",
       "      <th>Level</th>\n",
       "      <th>Duration</th>\n",
       "      <th>Schedule</th>\n",
       "      <th>Review</th>\n",
       "      <th>What you will learn</th>\n",
       "      <th>Skill gain</th>\n",
       "      <th>Modules</th>\n",
       "      <th>Instructor</th>\n",
       "      <th>Offered By</th>\n",
       "      <th>Keyword</th>\n",
       "      <th>Course Url</th>\n",
       "    </tr>\n",
       "  </thead>\n",
       "  <tbody>\n",
       "    <tr>\n",
       "      <th>0</th>\n",
       "      <td>Fashion as Design</td>\n",
       "      <td>4.8</td>\n",
       "      <td>Beginner level</td>\n",
       "      <td>20 hours (approximately)</td>\n",
       "      <td>Flexible schedule</td>\n",
       "      <td>2,813 reviews</td>\n",
       "      <td>NaN</td>\n",
       "      <td>['Art History', 'Art', 'History', 'Creativity']</td>\n",
       "      <td>['Introduction', 'Heroes', 'Silhouettes', 'Cou...</td>\n",
       "      <td>['Anna Burckhardt', 'Paola Antonelli', 'Michel...</td>\n",
       "      <td>['The Museum of Modern Art']</td>\n",
       "      <td>Arts and Humanities</td>\n",
       "      <td>https://www.coursera.org/learn/fashion-design</td>\n",
       "    </tr>\n",
       "    <tr>\n",
       "      <th>1</th>\n",
       "      <td>Modern American Poetry</td>\n",
       "      <td>4.4</td>\n",
       "      <td>Beginner level</td>\n",
       "      <td>Approx. 34 hours to complete</td>\n",
       "      <td>Flexible schedule</td>\n",
       "      <td>100 reviews</td>\n",
       "      <td>NaN</td>\n",
       "      <td>[]</td>\n",
       "      <td>['Orientation', 'Module 1', 'Module 2', 'Modul...</td>\n",
       "      <td>['Cary Nelson']</td>\n",
       "      <td>['University of Illinois at Urbana-Champaign']</td>\n",
       "      <td>Arts and Humanities</td>\n",
       "      <td>https://www.coursera.org/learn/modern-american...</td>\n",
       "    </tr>\n",
       "    <tr>\n",
       "      <th>2</th>\n",
       "      <td>Pixel Art for Video Games</td>\n",
       "      <td>4.5</td>\n",
       "      <td>Beginner level</td>\n",
       "      <td>9 hours (approximately)</td>\n",
       "      <td>Flexible schedule</td>\n",
       "      <td>227 reviews</td>\n",
       "      <td>NaN</td>\n",
       "      <td>[]</td>\n",
       "      <td>['Week 1: Introduction to Pixel Art', 'Week 2:...</td>\n",
       "      <td>['Andrew Dennis', 'Ricardo Guimaraes']</td>\n",
       "      <td>['Michigan State University']</td>\n",
       "      <td>Arts and Humanities</td>\n",
       "      <td>https://www.coursera.org/learn/pixel-art-video...</td>\n",
       "    </tr>\n",
       "    <tr>\n",
       "      <th>3</th>\n",
       "      <td>Distribución digital de la música independiente</td>\n",
       "      <td>NaN</td>\n",
       "      <td>Beginner level</td>\n",
       "      <td>Approx. 8 hours to complete</td>\n",
       "      <td>Flexible schedule</td>\n",
       "      <td>NaN</td>\n",
       "      <td>NaN</td>\n",
       "      <td>[]</td>\n",
       "      <td>['Semana 1', 'Semana 2', 'Semana 3', 'Semana 4']</td>\n",
       "      <td>['Eduardo de la Vara Brown.']</td>\n",
       "      <td>['SAE Institute México']</td>\n",
       "      <td>Arts and Humanities</td>\n",
       "      <td>https://www.coursera.org/learn/distribucion-di...</td>\n",
       "    </tr>\n",
       "    <tr>\n",
       "      <th>4</th>\n",
       "      <td>The Blues: Understanding and Performing an Ame...</td>\n",
       "      <td>4.8</td>\n",
       "      <td>Beginner level</td>\n",
       "      <td>Approx. 11 hours to complete</td>\n",
       "      <td>Flexible schedule</td>\n",
       "      <td>582 reviews</td>\n",
       "      <td>Students will be able to describe the blues as...</td>\n",
       "      <td>['Music', 'Chord', 'Jazz', 'Jazz Improvisation']</td>\n",
       "      <td>['Blues Progressions – Theory and Practice ', ...</td>\n",
       "      <td>['Dariusz Terefenko']</td>\n",
       "      <td>['University of Rochester']</td>\n",
       "      <td>Arts and Humanities</td>\n",
       "      <td>https://www.coursera.org/learn/the-blues</td>\n",
       "    </tr>\n",
       "  </tbody>\n",
       "</table>\n",
       "</div>"
      ],
      "text/plain": [
       "                                        Course Title  Rating           Level  \\\n",
       "0                                  Fashion as Design     4.8  Beginner level   \n",
       "1                             Modern American Poetry     4.4  Beginner level   \n",
       "2                          Pixel Art for Video Games     4.5  Beginner level   \n",
       "3    Distribución digital de la música independiente     NaN  Beginner level   \n",
       "4  The Blues: Understanding and Performing an Ame...     4.8  Beginner level   \n",
       "\n",
       "                       Duration           Schedule         Review  \\\n",
       "0      20 hours (approximately)  Flexible schedule  2,813 reviews   \n",
       "1  Approx. 34 hours to complete  Flexible schedule    100 reviews   \n",
       "2       9 hours (approximately)  Flexible schedule    227 reviews   \n",
       "3   Approx. 8 hours to complete  Flexible schedule            NaN   \n",
       "4  Approx. 11 hours to complete  Flexible schedule    582 reviews   \n",
       "\n",
       "                                 What you will learn  \\\n",
       "0                                                NaN   \n",
       "1                                                NaN   \n",
       "2                                                NaN   \n",
       "3                                                NaN   \n",
       "4  Students will be able to describe the blues as...   \n",
       "\n",
       "                                         Skill gain  \\\n",
       "0   ['Art History', 'Art', 'History', 'Creativity']   \n",
       "1                                                []   \n",
       "2                                                []   \n",
       "3                                                []   \n",
       "4  ['Music', 'Chord', 'Jazz', 'Jazz Improvisation']   \n",
       "\n",
       "                                             Modules  \\\n",
       "0  ['Introduction', 'Heroes', 'Silhouettes', 'Cou...   \n",
       "1  ['Orientation', 'Module 1', 'Module 2', 'Modul...   \n",
       "2  ['Week 1: Introduction to Pixel Art', 'Week 2:...   \n",
       "3   ['Semana 1', 'Semana 2', 'Semana 3', 'Semana 4']   \n",
       "4  ['Blues Progressions – Theory and Practice ', ...   \n",
       "\n",
       "                                          Instructor  \\\n",
       "0  ['Anna Burckhardt', 'Paola Antonelli', 'Michel...   \n",
       "1                                    ['Cary Nelson']   \n",
       "2             ['Andrew Dennis', 'Ricardo Guimaraes']   \n",
       "3                      ['Eduardo de la Vara Brown.']   \n",
       "4                              ['Dariusz Terefenko']   \n",
       "\n",
       "                                       Offered By              Keyword  \\\n",
       "0                    ['The Museum of Modern Art']  Arts and Humanities   \n",
       "1  ['University of Illinois at Urbana-Champaign']  Arts and Humanities   \n",
       "2                   ['Michigan State University']  Arts and Humanities   \n",
       "3                        ['SAE Institute México']  Arts and Humanities   \n",
       "4                     ['University of Rochester']  Arts and Humanities   \n",
       "\n",
       "                                          Course Url  \n",
       "0      https://www.coursera.org/learn/fashion-design  \n",
       "1  https://www.coursera.org/learn/modern-american...  \n",
       "2  https://www.coursera.org/learn/pixel-art-video...  \n",
       "3  https://www.coursera.org/learn/distribucion-di...  \n",
       "4           https://www.coursera.org/learn/the-blues  "
      ]
     },
     "execution_count": 2,
     "metadata": {},
     "output_type": "execute_result"
    }
   ],
   "source": [
    "import pandas as pd\n",
    "import numpy\n",
    "\n",
    "df = pd.read_csv('Datos.csv')\n",
    "\n",
    "df.head()\n",
    "\n"
   ]
  },
  {
   "cell_type": "code",
   "execution_count": 3,
   "metadata": {},
   "outputs": [
    {
     "name": "stdout",
     "output_type": "stream",
     "text": [
      "Index(['Course Title', 'Rating', 'Level', 'Duration', 'Schedule', 'Review',\n",
      "       'What you will learn', 'Skill gain', 'Modules', 'Instructor',\n",
      "       'Offered By', 'Keyword', 'Course Url'],\n",
      "      dtype='object')\n"
     ]
    }
   ],
   "source": [
    "# Eliminar filas duplicadas\n",
    "df = df.drop_duplicates()\n",
    "\n",
    "# Manejar valores nulos (rellenar con un valor específico o eliminar)\n",
    "df = df.fillna(0)  # o df.dropna()\n",
    "\n",
    "# Mostrar los nombres de las columnas\n",
    "print(df.columns)\n",
    "\n",
    "# Convertir la columna 'Rating' a tipo float\n",
    "df['Rating'] = df['Rating'].astype(float)\n",
    "\n"
   ]
  },
  {
   "cell_type": "code",
   "execution_count": 4,
   "metadata": {},
   "outputs": [
    {
     "name": "stdout",
     "output_type": "stream",
     "text": [
      "Course Title\n",
      " Assisting Public Sector Decision Makers With Policy Analysis                                                          4.8\n",
      " Atención prehospitalaria del ictus agudo y selección de pacientes para tratamiento endovascular con la escala RACE    4.9\n",
      " Build a social media presence for your business using Canva                                                           4.7\n",
      " Build social awareness content for Twitter with Canva                                                                 0.0\n",
      " Comercio, Inmigración y Tipos de Cambio en un Mundo Globalizado                                                       4.9\n",
      "                                                                                                                      ... \n",
      "현대 로봇공학, 강좌 2: 로봇 기구학                                                                                                  0.0\n",
      "현대 로봇공학, 강좌 3: 로봇 동역학                                                                                                  0.0\n",
      "현대 로봇공학, 강좌 4: 로봇 동작 계획 및 제어                                                                                           0.0\n",
      "현대 로봇공학, 강좌 5:  로봇 매니퓰레이션 및 차륜형 이동 로봇                                                                                  0.0\n",
      "현대 로봇공학, 강좌 6: 캡스톤 프로젝트, 모바일 매니퓰레이션                                                                                    0.0\n",
      "Name: Rating, Length: 6392, dtype: float64\n"
     ]
    }
   ],
   "source": [
    "# Calcular el promedio de calificaciones agrupado por el título del curso\n",
    "promedio_calificaciones = df.groupby('Course Title')['Rating'].mean()\n",
    "print(promedio_calificaciones)\n"
   ]
  },
  {
   "cell_type": "code",
   "execution_count": 5,
   "metadata": {},
   "outputs": [
    {
     "name": "stdout",
     "output_type": "stream",
     "text": [
      "Curso con mejor rating: Songwriting: Writing the Music con 5.0\n",
      "Curso con peor rating: Distribución digital de la música independiente con 0.0\n"
     ]
    }
   ],
   "source": [
    "# Curso con la mejor calificación\n",
    "curso_con_mejor_rating = df.loc[df['Rating'].idxmax()]\n",
    "curso_con_peor_rating = df.loc[df['Rating'].idxmin()]\n",
    "\n",
    "print(f\"Curso con mejor rating: {curso_con_mejor_rating['Course Title']} con {curso_con_mejor_rating['Rating']}\")\n",
    "print(f\"Curso con peor rating: {curso_con_peor_rating['Course Title']} con {curso_con_peor_rating['Rating']}\")\n"
   ]
  },
  {
   "cell_type": "code",
   "execution_count": 6,
   "metadata": {},
   "outputs": [
    {
     "name": "stdout",
     "output_type": "stream",
     "text": [
      "Porcentaje de cursos con horario flexible: 92.63%\n"
     ]
    }
   ],
   "source": [
    "cursos_horario_flexible = df[df['Schedule'].str.contains('Flexible', case=False, na=False)]\n",
    "porcentaje_flexible = (len(cursos_horario_flexible) / len(df)) * 100\n",
    "porcentaje_flexible = round(porcentaje_flexible, 2)\n",
    "\n",
    "print(f\"Porcentaje de cursos con horario flexible: {porcentaje_flexible}%\")\n"
   ]
  },
  {
   "cell_type": "code",
   "execution_count": 7,
   "metadata": {},
   "outputs": [],
   "source": [
    "promedio_calificaciones.to_csv('promedio_calificaciones.csv')\n"
   ]
  },
  {
   "cell_type": "code",
   "execution_count": 9,
   "metadata": {},
   "outputs": [
    {
     "name": "stdout",
     "output_type": "stream",
     "text": [
      "Archivo 'promedio_calificaciones.csv' guardado correctamente.\n"
     ]
    }
   ],
   "source": [
    "# Agrupar por el título del curso y calcular el promedio de las calificaciones\n",
    "promedio_calificaciones = df.groupby('Course Title')['Rating'].mean()\n",
    "\n",
    "# Exportar el promedio de calificaciones a un archivo CSV\n",
    "promedio_calificaciones.to_csv('promedio_calificaciones.csv')\n",
    "\n",
    "print(\"Archivo 'promedio_calificaciones.csv' guardado correctamente.\")\n"
   ]
  },
  {
   "cell_type": "markdown",
   "metadata": {},
   "source": [
    "# Graficas"
   ]
  }
 ],
 "metadata": {
  "kernelspec": {
   "display_name": "Python 3",
   "language": "python",
   "name": "python3"
  },
  "language_info": {
   "codemirror_mode": {
    "name": "ipython",
    "version": 3
   },
   "file_extension": ".py",
   "mimetype": "text/x-python",
   "name": "python",
   "nbconvert_exporter": "python",
   "pygments_lexer": "ipython3",
   "version": "3.12.3"
  }
 },
 "nbformat": 4,
 "nbformat_minor": 2
}
